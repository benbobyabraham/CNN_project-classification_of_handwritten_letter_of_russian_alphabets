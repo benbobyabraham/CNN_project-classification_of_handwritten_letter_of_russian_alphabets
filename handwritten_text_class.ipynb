{
 "cells": [
  {
   "cell_type": "markdown",
   "id": "9a3c3c25",
   "metadata": {},
   "source": [
    "## Importing the required libraries"
   ]
  },
  {
   "cell_type": "code",
   "execution_count": 1,
   "id": "a6ea7a95",
   "metadata": {},
   "outputs": [],
   "source": [
    "import numpy as np\n",
    "import pandas as pd\n",
    "from sklearn.model_selection import train_test_split\n",
    "from sklearn import metrics\n",
    "from sklearn.pipeline import Pipeline\n",
    "import os\n",
    "import random\n",
    "import matplotlib.pyplot as plt\n",
    "from tensorflow import keras\n",
    "np.random.seed(123)\n",
    "%matplotlib inline\n",
    "from mpl_toolkits.mplot3d import Axes3D\n",
    "from sklearn.preprocessing import StandardScaler\n"
   ]
  },
  {
   "cell_type": "code",
   "execution_count": 2,
   "id": "fefc5ba6",
   "metadata": {},
   "outputs": [
    {
     "data": {
      "text/html": [
       "<div>\n",
       "<style scoped>\n",
       "    .dataframe tbody tr th:only-of-type {\n",
       "        vertical-align: middle;\n",
       "    }\n",
       "\n",
       "    .dataframe tbody tr th {\n",
       "        vertical-align: top;\n",
       "    }\n",
       "\n",
       "    .dataframe thead th {\n",
       "        text-align: right;\n",
       "    }\n",
       "</style>\n",
       "<table border=\"1\" class=\"dataframe\">\n",
       "  <thead>\n",
       "    <tr style=\"text-align: right;\">\n",
       "      <th></th>\n",
       "      <th>letter</th>\n",
       "      <th>label</th>\n",
       "      <th>file</th>\n",
       "      <th>background</th>\n",
       "    </tr>\n",
       "  </thead>\n",
       "  <tbody>\n",
       "    <tr>\n",
       "      <th>0</th>\n",
       "      <td>а</td>\n",
       "      <td>1</td>\n",
       "      <td>01_01.png</td>\n",
       "      <td>0</td>\n",
       "    </tr>\n",
       "    <tr>\n",
       "      <th>1</th>\n",
       "      <td>а</td>\n",
       "      <td>1</td>\n",
       "      <td>01_02.png</td>\n",
       "      <td>0</td>\n",
       "    </tr>\n",
       "    <tr>\n",
       "      <th>2</th>\n",
       "      <td>а</td>\n",
       "      <td>1</td>\n",
       "      <td>01_03.png</td>\n",
       "      <td>0</td>\n",
       "    </tr>\n",
       "    <tr>\n",
       "      <th>3</th>\n",
       "      <td>а</td>\n",
       "      <td>1</td>\n",
       "      <td>01_04.png</td>\n",
       "      <td>0</td>\n",
       "    </tr>\n",
       "    <tr>\n",
       "      <th>4</th>\n",
       "      <td>а</td>\n",
       "      <td>1</td>\n",
       "      <td>01_05.png</td>\n",
       "      <td>0</td>\n",
       "    </tr>\n",
       "  </tbody>\n",
       "</table>\n",
       "</div>"
      ],
      "text/plain": [
       "  letter  label       file  background\n",
       "0      а      1  01_01.png           0\n",
       "1      а      1  01_02.png           0\n",
       "2      а      1  01_03.png           0\n",
       "3      а      1  01_04.png           0\n",
       "4      а      1  01_05.png           0"
      ]
     },
     "execution_count": 2,
     "metadata": {},
     "output_type": "execute_result"
    }
   ],
   "source": [
    "letters_1=pd.read_csv('letters.csv')\n",
    "letters_1.head()"
   ]
  },
  {
   "cell_type": "code",
   "execution_count": 3,
   "id": "de91a12d",
   "metadata": {},
   "outputs": [
    {
     "data": {
      "text/html": [
       "<div>\n",
       "<style scoped>\n",
       "    .dataframe tbody tr th:only-of-type {\n",
       "        vertical-align: middle;\n",
       "    }\n",
       "\n",
       "    .dataframe tbody tr th {\n",
       "        vertical-align: top;\n",
       "    }\n",
       "\n",
       "    .dataframe thead th {\n",
       "        text-align: right;\n",
       "    }\n",
       "</style>\n",
       "<table border=\"1\" class=\"dataframe\">\n",
       "  <thead>\n",
       "    <tr style=\"text-align: right;\">\n",
       "      <th></th>\n",
       "      <th>letter</th>\n",
       "      <th>label</th>\n",
       "      <th>file</th>\n",
       "      <th>background</th>\n",
       "    </tr>\n",
       "  </thead>\n",
       "  <tbody>\n",
       "    <tr>\n",
       "      <th>0</th>\n",
       "      <td>а</td>\n",
       "      <td>1</td>\n",
       "      <td>01_51.png</td>\n",
       "      <td>2</td>\n",
       "    </tr>\n",
       "    <tr>\n",
       "      <th>1</th>\n",
       "      <td>а</td>\n",
       "      <td>1</td>\n",
       "      <td>01_52.png</td>\n",
       "      <td>2</td>\n",
       "    </tr>\n",
       "    <tr>\n",
       "      <th>2</th>\n",
       "      <td>а</td>\n",
       "      <td>1</td>\n",
       "      <td>01_53.png</td>\n",
       "      <td>2</td>\n",
       "    </tr>\n",
       "    <tr>\n",
       "      <th>3</th>\n",
       "      <td>а</td>\n",
       "      <td>1</td>\n",
       "      <td>01_54.png</td>\n",
       "      <td>2</td>\n",
       "    </tr>\n",
       "    <tr>\n",
       "      <th>4</th>\n",
       "      <td>а</td>\n",
       "      <td>1</td>\n",
       "      <td>01_55.png</td>\n",
       "      <td>2</td>\n",
       "    </tr>\n",
       "  </tbody>\n",
       "</table>\n",
       "</div>"
      ],
      "text/plain": [
       "  letter  label       file  background\n",
       "0      а      1  01_51.png           2\n",
       "1      а      1  01_52.png           2\n",
       "2      а      1  01_53.png           2\n",
       "3      а      1  01_54.png           2\n",
       "4      а      1  01_55.png           2"
      ]
     },
     "execution_count": 3,
     "metadata": {},
     "output_type": "execute_result"
    }
   ],
   "source": [
    "letters_2=pd.read_csv('letters2.csv')\n",
    "letters_2.head()\n",
    "                      "
   ]
  },
  {
   "cell_type": "code",
   "execution_count": 4,
   "id": "e09687f6",
   "metadata": {},
   "outputs": [
    {
     "data": {
      "text/html": [
       "<div>\n",
       "<style scoped>\n",
       "    .dataframe tbody tr th:only-of-type {\n",
       "        vertical-align: middle;\n",
       "    }\n",
       "\n",
       "    .dataframe tbody tr th {\n",
       "        vertical-align: top;\n",
       "    }\n",
       "\n",
       "    .dataframe thead th {\n",
       "        text-align: right;\n",
       "    }\n",
       "</style>\n",
       "<table border=\"1\" class=\"dataframe\">\n",
       "  <thead>\n",
       "    <tr style=\"text-align: right;\">\n",
       "      <th></th>\n",
       "      <th>letter</th>\n",
       "      <th>label</th>\n",
       "      <th>file</th>\n",
       "      <th>background</th>\n",
       "    </tr>\n",
       "  </thead>\n",
       "  <tbody>\n",
       "    <tr>\n",
       "      <th>0</th>\n",
       "      <td>а</td>\n",
       "      <td>1</td>\n",
       "      <td>01_231.png</td>\n",
       "      <td>3</td>\n",
       "    </tr>\n",
       "    <tr>\n",
       "      <th>1</th>\n",
       "      <td>а</td>\n",
       "      <td>1</td>\n",
       "      <td>01_232.png</td>\n",
       "      <td>3</td>\n",
       "    </tr>\n",
       "    <tr>\n",
       "      <th>2</th>\n",
       "      <td>а</td>\n",
       "      <td>1</td>\n",
       "      <td>01_233.png</td>\n",
       "      <td>3</td>\n",
       "    </tr>\n",
       "    <tr>\n",
       "      <th>3</th>\n",
       "      <td>а</td>\n",
       "      <td>1</td>\n",
       "      <td>01_234.png</td>\n",
       "      <td>3</td>\n",
       "    </tr>\n",
       "    <tr>\n",
       "      <th>4</th>\n",
       "      <td>а</td>\n",
       "      <td>1</td>\n",
       "      <td>01_235.png</td>\n",
       "      <td>3</td>\n",
       "    </tr>\n",
       "  </tbody>\n",
       "</table>\n",
       "</div>"
      ],
      "text/plain": [
       "  letter  label        file  background\n",
       "0      а      1  01_231.png           3\n",
       "1      а      1  01_232.png           3\n",
       "2      а      1  01_233.png           3\n",
       "3      а      1  01_234.png           3\n",
       "4      а      1  01_235.png           3"
      ]
     },
     "execution_count": 4,
     "metadata": {},
     "output_type": "execute_result"
    }
   ],
   "source": [
    "letters_3=pd.read_csv('letters3.csv')\n",
    "letters_3.head()"
   ]
  },
  {
   "cell_type": "code",
   "execution_count": 5,
   "id": "82050791",
   "metadata": {},
   "outputs": [
    {
     "data": {
      "text/html": [
       "<div>\n",
       "<style scoped>\n",
       "    .dataframe tbody tr th:only-of-type {\n",
       "        vertical-align: middle;\n",
       "    }\n",
       "\n",
       "    .dataframe tbody tr th {\n",
       "        vertical-align: top;\n",
       "    }\n",
       "\n",
       "    .dataframe thead th {\n",
       "        text-align: right;\n",
       "    }\n",
       "</style>\n",
       "<table border=\"1\" class=\"dataframe\">\n",
       "  <thead>\n",
       "    <tr style=\"text-align: right;\">\n",
       "      <th></th>\n",
       "      <th>label</th>\n",
       "      <th>background</th>\n",
       "    </tr>\n",
       "  </thead>\n",
       "  <tbody>\n",
       "    <tr>\n",
       "      <th>label</th>\n",
       "      <td>1.000000e+00</td>\n",
       "      <td>-6.918602e-16</td>\n",
       "    </tr>\n",
       "    <tr>\n",
       "      <th>background</th>\n",
       "      <td>-6.918602e-16</td>\n",
       "      <td>1.000000e+00</td>\n",
       "    </tr>\n",
       "  </tbody>\n",
       "</table>\n",
       "</div>"
      ],
      "text/plain": [
       "                   label    background\n",
       "label       1.000000e+00 -6.918602e-16\n",
       "background -6.918602e-16  1.000000e+00"
      ]
     },
     "execution_count": 5,
     "metadata": {},
     "output_type": "execute_result"
    }
   ],
   "source": [
    "letters_1.corr()"
   ]
  },
  {
   "cell_type": "markdown",
   "id": "6017ec0f",
   "metadata": {},
   "source": [
    "## EDA"
   ]
  },
  {
   "cell_type": "code",
   "execution_count": 8,
   "id": "f01c828d",
   "metadata": {},
   "outputs": [],
   "source": [
    "# Distribution graphs (histogram/bar graph) of column data\n",
    "def plotPerColumnDistribution(df, nGraphShown, nGraphPerRow):\n",
    "    nunique = df.nunique()\n",
    "    df = df[[col for col in df if nunique[col] > 1 and nunique[col] < 50]] # For displaying purposes, pick columns that have between 1 and 50 unique values\n",
    "    nRow, nCol = df.shape\n",
    "    columnNames = list(df)\n",
    "    nGraphRow = (nCol + nGraphPerRow - 1) / nGraphPerRow\n",
    "    plt.figure(num = None, figsize = (6 * nGraphPerRow, 8 * nGraphRow), dpi = 80, facecolor = 'w', edgecolor = 'k')\n",
    "    for i in range(min(nCol, nGraphShown)):\n",
    "        plt.subplot(nGraphRow, nGraphPerRow, i + 1)\n",
    "        columnDf = df.iloc[:, i]\n",
    "        if (not np.issubdtype(type(columnDf.iloc[0]), np.number)):\n",
    "            valueCounts = columnDf.value_counts()\n",
    "            valueCounts.plot.bar()\n",
    "        else:\n",
    "            columnDf.hist()\n",
    "        plt.ylabel('counts')\n",
    "        plt.xticks(rotation = 90)\n",
    "        plt.title(f'{columnNames[i]} (column {i})')\n",
    "    plt.tight_layout(pad = 1.0, w_pad = 1.0, h_pad = 1.0)\n",
    "    plt.show()"
   ]
  },
  {
   "cell_type": "code",
   "execution_count": 9,
   "id": "78cbe0fc",
   "metadata": {},
   "outputs": [],
   "source": [
    "# Correlation matrix\n",
    "def plotCorrelationMatrix(df, graphWidth):\n",
    "    filename = df.dataframeName\n",
    "    df = df.dropna('columns') # drop columns with NaN\n",
    "    df = df[[col for col in df if df[col].nunique() > 1]] # keep columns where there are more than 1 unique values\n",
    "    if df.shape[1] < 2:\n",
    "        print(f'No correlation plots shown: The number of non-NaN or constant columns ({df.shape[1]}) is less than 2')\n",
    "        return\n",
    "    corr = df.corr()\n",
    "    plt.figure(num=None, figsize=(graphWidth, graphWidth), dpi=80, facecolor='w', edgecolor='k')\n",
    "    corrMat = plt.matshow(corr, fignum = 1)\n",
    "    plt.xticks(range(len(corr.columns)), corr.columns, rotation=90)\n",
    "    plt.yticks(range(len(corr.columns)), corr.columns)\n",
    "    plt.gca().xaxis.tick_bottom()\n",
    "    plt.colorbar(corrMat)\n",
    "    plt.title(f'Correlation Matrix for {filename}', fontsize=15)\n",
    "    plt.show()"
   ]
  },
  {
   "cell_type": "code",
   "execution_count": 12,
   "id": "368e8c8a",
   "metadata": {},
   "outputs": [
    {
     "name": "stdout",
     "output_type": "stream",
     "text": [
      "There are 1000 rows and 4 columns\n"
     ]
    }
   ],
   "source": [
    "nRowsRead = 1000 # specify 'None' if want to read whole file\n",
    "# letters.csv has 1650 rows in reality, but we are only loading/previewing the first 1000 rows\n",
    "df1 = pd.read_csv('letters.csv', delimiter=',', nrows = nRowsRead)\n",
    "df1.dataframeName = 'letters.csv'\n",
    "nRow, nCol = df1.shape\n",
    "print(f'There are {nRow} rows and {nCol} columns')"
   ]
  },
  {
   "cell_type": "code",
   "execution_count": 13,
   "id": "c289c284",
   "metadata": {},
   "outputs": [
    {
     "name": "stderr",
     "output_type": "stream",
     "text": [
      "/var/folders/y_/nn87538d2sqd7jdp7rqkjnmw0000gn/T/ipykernel_23320/964395601.py:10: MatplotlibDeprecationWarning: Passing non-integers as three-element position specification is deprecated since 3.3 and will be removed two minor releases later.\n",
      "  plt.subplot(nGraphRow, nGraphPerRow, i + 1)\n",
      "/var/folders/y_/nn87538d2sqd7jdp7rqkjnmw0000gn/T/ipykernel_23320/964395601.py:10: MatplotlibDeprecationWarning: Passing non-integers as three-element position specification is deprecated since 3.3 and will be removed two minor releases later.\n",
      "  plt.subplot(nGraphRow, nGraphPerRow, i + 1)\n"
     ]
    },
    {
     "data": {
      "image/png": "[encoded data removed]",
      "text/plain": [
       "<Figure size 2400x896 with 3 Axes>"
      ]
     },
     "metadata": {},
     "output_type": "display_data"
    }
   ],
   "source": [
    "plotPerColumnDistribution(df1, 10, 5)"
   ]
  },
  {
   "cell_type": "code",
   "execution_count": 14,
   "id": "619f3efb",
   "metadata": {},
   "outputs": [
    {
     "name": "stderr",
     "output_type": "stream",
     "text": [
      "/var/folders/y_/nn87538d2sqd7jdp7rqkjnmw0000gn/T/ipykernel_23320/3510424060.py:4: FutureWarning: In a future version of pandas all arguments of DataFrame.dropna will be keyword-only\n",
      "  df = df.dropna('columns') # drop columns with NaN\n"
     ]
    },
    {
     "data": {
      "image/png": "[encoded data removed]",
      "text/plain": [
       "<Figure size 640x640 with 2 Axes>"
      ]
     },
     "metadata": {},
     "output_type": "display_data"
    }
   ],
   "source": [
    "plotCorrelationMatrix(df1, 8)"
   ]
  },
  {
   "cell_type": "code",
   "execution_count": 19,
   "id": "bfce68e8",
   "metadata": {},
   "outputs": [
    {
     "name": "stdout",
     "output_type": "stream",
     "text": [
      "There are 1000 rows and 4 columns\n"
     ]
    }
   ],
   "source": [
    "nRowsRead = 1000 # specify 'None' if want to read whole file\n",
    "# letters2.csv has 5940 rows in reality, but we are only loading/previewing the first 1000 rows\n",
    "df2 = pd.read_csv('letters2.csv', delimiter=',', nrows = nRowsRead)\n",
    "df2.dataframeName = 'letters2.csv'\n",
    "nRow, nCol = df2.shape\n",
    "print(f'There are {nRow} rows and {nCol} columns')"
   ]
  },
  {
   "cell_type": "code",
   "execution_count": 20,
   "id": "f9d896aa",
   "metadata": {},
   "outputs": [
    {
     "name": "stderr",
     "output_type": "stream",
     "text": [
      "/var/folders/y_/nn87538d2sqd7jdp7rqkjnmw0000gn/T/ipykernel_23320/964395601.py:10: MatplotlibDeprecationWarning: Passing non-integers as three-element position specification is deprecated since 3.3 and will be removed two minor releases later.\n",
      "  plt.subplot(nGraphRow, nGraphPerRow, i + 1)\n",
      "/var/folders/y_/nn87538d2sqd7jdp7rqkjnmw0000gn/T/ipykernel_23320/964395601.py:10: MatplotlibDeprecationWarning: Passing non-integers as three-element position specification is deprecated since 3.3 and will be removed two minor releases later.\n",
      "  plt.subplot(nGraphRow, nGraphPerRow, i + 1)\n"
     ]
    },
    {
     "data": {
      "image/png": "[encoded data removed]",
      "text/plain": [
       "<Figure size 2400x768 with 2 Axes>"
      ]
     },
     "metadata": {},
     "output_type": "display_data"
    }
   ],
   "source": [
    "plotPerColumnDistribution(df2, 10, 5)"
   ]
  },
  {
   "cell_type": "code",
   "execution_count": 21,
   "id": "9c212c31",
   "metadata": {},
   "outputs": [
    {
     "name": "stderr",
     "output_type": "stream",
     "text": [
      "/var/folders/y_/nn87538d2sqd7jdp7rqkjnmw0000gn/T/ipykernel_23320/3510424060.py:4: FutureWarning: In a future version of pandas all arguments of DataFrame.dropna will be keyword-only\n",
      "  df = df.dropna('columns') # drop columns with NaN\n"
     ]
    },
    {
     "data": {
      "image/png": "[encoded data removed]",
      "text/plain": [
       "<Figure size 640x640 with 2 Axes>"
      ]
     },
     "metadata": {},
     "output_type": "display_data"
    }
   ],
   "source": [
    "plotCorrelationMatrix(df2, 8)"
   ]
  },
  {
   "cell_type": "code",
   "execution_count": 22,
   "id": "246ca4c0",
   "metadata": {},
   "outputs": [
    {
     "name": "stdout",
     "output_type": "stream",
     "text": [
      "There are 1000 rows and 4 columns\n"
     ]
    }
   ],
   "source": [
    "nRowsRead = 1000 # specify 'None' if want to read whole file\n",
    "# letters3.csv has 6600 rows in reality, but we are only loading/previewing the first 1000 rows\n",
    "df3 = pd.read_csv('letters3.csv', delimiter=',', nrows = nRowsRead)\n",
    "df3.dataframeName = 'letters3.csv'\n",
    "nRow, nCol = df3.shape\n",
    "print(f'There are {nRow} rows and {nCol} columns')"
   ]
  },
  {
   "cell_type": "code",
   "execution_count": 23,
   "id": "d5101b9d",
   "metadata": {},
   "outputs": [
    {
     "name": "stderr",
     "output_type": "stream",
     "text": [
      "/var/folders/y_/nn87538d2sqd7jdp7rqkjnmw0000gn/T/ipykernel_23320/964395601.py:10: MatplotlibDeprecationWarning: Passing non-integers as three-element position specification is deprecated since 3.3 and will be removed two minor releases later.\n",
      "  plt.subplot(nGraphRow, nGraphPerRow, i + 1)\n",
      "/var/folders/y_/nn87538d2sqd7jdp7rqkjnmw0000gn/T/ipykernel_23320/964395601.py:10: MatplotlibDeprecationWarning: Passing non-integers as three-element position specification is deprecated since 3.3 and will be removed two minor releases later.\n",
      "  plt.subplot(nGraphRow, nGraphPerRow, i + 1)\n"
     ]
    },
    {
     "data": {
      "image/png": "[encoded data removed]",
      "text/plain": [
       "<Figure size 2400x768 with 2 Axes>"
      ]
     },
     "metadata": {},
     "output_type": "display_data"
    }
   ],
   "source": [
    "plotPerColumnDistribution(df3, 10, 5)"
   ]
  },
  {
   "cell_type": "code",
   "execution_count": 24,
   "id": "c0a03055",
   "metadata": {},
   "outputs": [
    {
     "name": "stderr",
     "output_type": "stream",
     "text": [
      "/var/folders/y_/nn87538d2sqd7jdp7rqkjnmw0000gn/T/ipykernel_23320/3510424060.py:4: FutureWarning: In a future version of pandas all arguments of DataFrame.dropna will be keyword-only\n",
      "  df = df.dropna('columns') # drop columns with NaN\n"
     ]
    },
    {
     "data": {
      "image/png": "[encoded data removed]",
      "text/plain": [
       "<Figure size 640x640 with 2 Axes>"
      ]
     },
     "metadata": {},
     "output_type": "display_data"
    }
   ],
   "source": [
    "plotCorrelationMatrix(df3, 8)"
   ]
  },
  {
   "cell_type": "markdown",
   "id": "5fcf70d7",
   "metadata": {},
   "source": [
    "## Here we are creating a function for Transformer Mixin: To convert categorical variables in a consistent way across train and test datasets"
   ]
  },
  {
   "cell_type": "code",
   "execution_count": 25,
   "id": "6037c265",
   "metadata": {},
   "outputs": [],
   "source": [
    "from sklearn.base import TransformerMixin\n",
    "class CustomStandardScalerForCnn(TransformerMixin):\n",
    "    def __init__(self, with_mean=True, with_std=True):\n",
    "        self.with_mean = with_mean\n",
    "        self.with_std = with_std\n",
    "        self.mean_ = None\n",
    "        self.std_ = None\n",
    "        \n",
    "    def fit(self, X, y=None):\n",
    "        if self.with_mean:\n",
    "            self.mean_ = X.mean()\n",
    "        else:\n",
    "            self.mean_ = 0\n",
    "            \n",
    "        if self.with_std:\n",
    "            self.std_ = X.std()\n",
    "        else:\n",
    "            self.std_ = 1\n",
    "        \n",
    "        return self\n",
    "    \n",
    "    def transform(self, X):\n",
    "        if self.mean_ and self.std_:\n",
    "            return (X - self.mean_) / self.std_\n",
    "        else:\n",
    "            raise(\"CustomStandardScalerForCnn is not fitted\")\n",
    "            \n",
    "    def inverse_transform(self, X):\n",
    "        if self.with_std:\n",
    "            X *= self.std_\n",
    "        if self.with_mean:\n",
    "            X += self.mean_\n",
    "        return X"
   ]
  },
  {
   "cell_type": "markdown",
   "id": "904d7346",
   "metadata": {},
   "source": [
    "## Sequential Model , setting parameters"
   ]
  },
  {
   "cell_type": "code",
   "execution_count": 47,
   "id": "77bde31c",
   "metadata": {},
   "outputs": [],
   "source": [
    "def CNN_Model():\n",
    "    clf = keras.models.Sequential([\n",
    "        keras.layers.ZeroPadding2D((1,1), input_shape=(32, 32, 3)),\n",
    "        keras.layers.Conv2D(filters=64, kernel_size=(3, 3), activation='relu'),\n",
    "        keras.layers.ZeroPadding2D((1,1)),\n",
    "        keras.layers.Conv2D(filters=64, kernel_size=(3, 3), activation='relu'),\n",
    "        keras.layers.MaxPooling2D(pool_size=(2, 2)), # stride=2\n",
    "        keras.layers.ZeroPadding2D((1,1)),\n",
    "        keras.layers.Conv2D(filters=128, kernel_size=(3, 3), activation='relu'),\n",
    "        keras.layers.ZeroPadding2D((1,1)),\n",
    "        keras.layers.Conv2D(filters=128, kernel_size=(3, 3), activation='relu'),\n",
    "        keras.layers.MaxPooling2D(pool_size=(2, 2)), # stride=2\n",
    "        keras.layers.ZeroPadding2D((1,1)),\n",
    "        keras.layers.Conv2D(filters=256, kernel_size=(3, 3), activation='relu'),\n",
    "        keras.layers.ZeroPadding2D((1,1)),\n",
    "        keras.layers.Conv2D(filters=256, kernel_size=(3, 3), activation='relu'),\n",
    "        keras.layers.MaxPooling2D(pool_size=(2, 2)), # stride=2\n",
    "        keras.layers.Flatten(),\n",
    "        keras.layers.Dense(2048, activation='relu'),\n",
    "        keras.layers.Dropout(0.75),\n",
    "        keras.layers.Dense(2048, activation='relu'),\n",
    "        keras.layers.Dropout(0.75),\n",
    "        keras.layers.Dense(33, activation='softmax')\n",
    "    ])\n",
    "    \n",
    "    \n",
    "    clf.compile(optimizer=keras.optimizers.Adam(),\n",
    "                loss='categorical_crossentropy',\n",
    "                metrics=['accuracy'])\n",
    "\n",
    "    return clf\n"
   ]
  },
  {
   "cell_type": "code",
   "execution_count": 28,
   "id": "97acdaac",
   "metadata": {},
   "outputs": [],
   "source": [
    "def plot_data(img_array, labels_array, n_samples=5):\n",
    "    classes = set(labels_array)\n",
    "    fig, ax = plt.subplots(len(classes), n_samples)\n",
    "    \n",
    "    for label_idx, class_label in enumerate(classes):\n",
    "        data = img_array[labels_array == class_label]\n",
    "        samples_from_class = random.choices(data, k=n_samples)\n",
    "        for i, img in enumerate(samples_from_class):\n",
    "            ax[label_idx, i].imshow(img)\n",
    "            ax[label_idx, i].axis('off')"
   ]
  },
  {
   "cell_type": "code",
   "execution_count": 56,
   "id": "d86f77a0",
   "metadata": {},
   "outputs": [
    {
     "data": {
      "text/html": [
       "<div>\n",
       "<style scoped>\n",
       "    .dataframe tbody tr th:only-of-type {\n",
       "        vertical-align: middle;\n",
       "    }\n",
       "\n",
       "    .dataframe tbody tr th {\n",
       "        vertical-align: top;\n",
       "    }\n",
       "\n",
       "    .dataframe thead th {\n",
       "        text-align: right;\n",
       "    }\n",
       "</style>\n",
       "<table border=\"1\" class=\"dataframe\">\n",
       "  <thead>\n",
       "    <tr style=\"text-align: right;\">\n",
       "      <th></th>\n",
       "      <th>letter</th>\n",
       "      <th>label</th>\n",
       "      <th>file</th>\n",
       "      <th>background</th>\n",
       "      <th>folder_name</th>\n",
       "    </tr>\n",
       "  </thead>\n",
       "  <tbody>\n",
       "    <tr>\n",
       "      <th>0</th>\n",
       "      <td>а</td>\n",
       "      <td>1</td>\n",
       "      <td>01_01.png</td>\n",
       "      <td>0</td>\n",
       "      <td>letters</td>\n",
       "    </tr>\n",
       "    <tr>\n",
       "      <th>1</th>\n",
       "      <td>а</td>\n",
       "      <td>1</td>\n",
       "      <td>01_02.png</td>\n",
       "      <td>0</td>\n",
       "      <td>letters</td>\n",
       "    </tr>\n",
       "    <tr>\n",
       "      <th>2</th>\n",
       "      <td>а</td>\n",
       "      <td>1</td>\n",
       "      <td>01_03.png</td>\n",
       "      <td>0</td>\n",
       "      <td>letters</td>\n",
       "    </tr>\n",
       "    <tr>\n",
       "      <th>3</th>\n",
       "      <td>а</td>\n",
       "      <td>1</td>\n",
       "      <td>01_04.png</td>\n",
       "      <td>0</td>\n",
       "      <td>letters</td>\n",
       "    </tr>\n",
       "    <tr>\n",
       "      <th>4</th>\n",
       "      <td>а</td>\n",
       "      <td>1</td>\n",
       "      <td>01_05.png</td>\n",
       "      <td>0</td>\n",
       "      <td>letters</td>\n",
       "    </tr>\n",
       "  </tbody>\n",
       "</table>\n",
       "</div>"
      ],
      "text/plain": [
       "  letter  label       file  background folder_name\n",
       "0      а      1  01_01.png           0     letters\n",
       "1      а      1  01_02.png           0     letters\n",
       "2      а      1  01_03.png           0     letters\n",
       "3      а      1  01_04.png           0     letters\n",
       "4      а      1  01_05.png           0     letters"
      ]
     },
     "execution_count": 56,
     "metadata": {},
     "output_type": "execute_result"
    }
   ],
   "source": [
    "letters1 = pd.read_csv( 'letters.csv')\n",
    "letters1['folder_name'] = 'letters'\n",
    "letters2 = pd.read_csv( 'letters2.csv')\n",
    "letters2['folder_name'] = 'letters2'\n",
    "letters3 = pd.read_csv( 'letters3.csv')\n",
    "letters3['folder_name'] = 'letters3'\n",
    "letters = pd.concat([letters1, letters2, letters3], ignore_index=True)\n",
    "\n",
    "letters.head()\n"
   ]
  },
  {
   "cell_type": "markdown",
   "id": "24ba3139",
   "metadata": {},
   "source": [
    "## Importing CV2 to process the images"
   ]
  },
  {
   "cell_type": "code",
   "execution_count": 57,
   "id": "fee43d1d",
   "metadata": {},
   "outputs": [
    {
     "data": {
      "text/plain": [
       "((14178, 32, 32, 3), (14178,))"
      ]
     },
     "execution_count": 57,
     "metadata": {},
     "output_type": "execute_result"
    }
   ],
   "source": [
    "import cv2\n",
    "X = []\n",
    "y = []\n",
    "for i, row in letters.iterrows():\n",
    "    folder_name = row['folder_name']\n",
    "    img_name = row['file']\n",
    "    img_arr = cv2.imread(folder_name+\"/\"+img_name)\n",
    "    if img_arr.shape == (32, 32, 3):\n",
    "        X.append(img_arr)\n",
    "        y.append(row['letter'])\n",
    "\n",
    "X = np.array(X)\n",
    "y = np.array(y)\n",
    "X.shape, y.shape"
   ]
  },
  {
   "cell_type": "markdown",
   "id": "c773d679",
   "metadata": {},
   "source": [
    "## Fitting CNN"
   ]
  },
  {
   "cell_type": "code",
   "execution_count": 48,
   "id": "c56710b2",
   "metadata": {},
   "outputs": [
    {
     "name": "stdout",
     "output_type": "stream",
     "text": [
      "Model: \"sequential_2\"\n",
      "_________________________________________________________________\n",
      "Layer (type)                 Output Shape              Param #   \n",
      "=================================================================\n",
      "zero_padding2d_12 (ZeroPaddi (None, 34, 34, 3)         0         \n",
      "_________________________________________________________________\n",
      "conv2d_12 (Conv2D)           (None, 32, 32, 64)        1792      \n",
      "_________________________________________________________________\n",
      "zero_padding2d_13 (ZeroPaddi (None, 34, 34, 64)        0         \n",
      "_________________________________________________________________\n",
      "conv2d_13 (Conv2D)           (None, 32, 32, 64)        36928     \n",
      "_________________________________________________________________\n",
      "max_pooling2d_6 (MaxPooling2 (None, 16, 16, 64)        0         \n",
      "_________________________________________________________________\n",
      "zero_padding2d_14 (ZeroPaddi (None, 18, 18, 64)        0         \n",
      "_________________________________________________________________\n",
      "conv2d_14 (Conv2D)           (None, 16, 16, 128)       73856     \n",
      "_________________________________________________________________\n",
      "zero_padding2d_15 (ZeroPaddi (None, 18, 18, 128)       0         \n",
      "_________________________________________________________________\n",
      "conv2d_15 (Conv2D)           (None, 16, 16, 128)       147584    \n",
      "_________________________________________________________________\n",
      "max_pooling2d_7 (MaxPooling2 (None, 8, 8, 128)         0         \n",
      "_________________________________________________________________\n",
      "zero_padding2d_16 (ZeroPaddi (None, 10, 10, 128)       0         \n",
      "_________________________________________________________________\n",
      "conv2d_16 (Conv2D)           (None, 8, 8, 256)         295168    \n",
      "_________________________________________________________________\n",
      "zero_padding2d_17 (ZeroPaddi (None, 10, 10, 256)       0         \n",
      "_________________________________________________________________\n",
      "conv2d_17 (Conv2D)           (None, 8, 8, 256)         590080    \n",
      "_________________________________________________________________\n",
      "max_pooling2d_8 (MaxPooling2 (None, 4, 4, 256)         0         \n",
      "_________________________________________________________________\n",
      "flatten_2 (Flatten)          (None, 4096)              0         \n",
      "_________________________________________________________________\n",
      "dense_6 (Dense)              (None, 2048)              8390656   \n",
      "_________________________________________________________________\n",
      "dropout_4 (Dropout)          (None, 2048)              0         \n",
      "_________________________________________________________________\n",
      "dense_7 (Dense)              (None, 2048)              4196352   \n",
      "_________________________________________________________________\n",
      "dropout_5 (Dropout)          (None, 2048)              0         \n",
      "_________________________________________________________________\n",
      "dense_8 (Dense)              (None, 33)                67617     \n",
      "=================================================================\n",
      "Total params: 13,800,033\n",
      "Trainable params: 13,800,033\n",
      "Non-trainable params: 0\n",
      "_________________________________________________________________\n",
      "None\n",
      "Epoch 1/40\n",
      "75/75 [==============================] - 185s 2s/step - loss: 3.4630 - accuracy: 0.0365 - val_loss: 3.3815 - val_accuracy: 0.0376\n",
      "Epoch 2/40\n",
      "75/75 [==============================] - 223s 3s/step - loss: 3.3086 - accuracy: 0.0563 - val_loss: 3.1906 - val_accuracy: 0.0677\n",
      "Epoch 3/40\n",
      "75/75 [==============================] - 207s 3s/step - loss: 3.1477 - accuracy: 0.0715 - val_loss: 3.0599 - val_accuracy: 0.0846\n",
      "Epoch 4/40\n",
      "75/75 [==============================] - 173s 2s/step - loss: 3.0353 - accuracy: 0.0953 - val_loss: 2.8688 - val_accuracy: 0.1457\n",
      "Epoch 5/40\n",
      "75/75 [==============================] - 171s 2s/step - loss: 2.6169 - accuracy: 0.2120 - val_loss: 2.1327 - val_accuracy: 0.3327\n",
      "Epoch 6/40\n",
      "75/75 [==============================] - 164s 2s/step - loss: 1.8727 - accuracy: 0.4200 - val_loss: 1.2792 - val_accuracy: 0.6090\n",
      "Epoch 7/40\n",
      "75/75 [==============================] - 163s 2s/step - loss: 1.1829 - accuracy: 0.6291 - val_loss: 0.7750 - val_accuracy: 0.7773\n",
      "Epoch 8/40\n",
      "75/75 [==============================] - 167s 2s/step - loss: 0.7918 - accuracy: 0.7561 - val_loss: 0.5271 - val_accuracy: 0.8515\n",
      "Epoch 9/40\n",
      "75/75 [==============================] - 172s 2s/step - loss: 0.5600 - accuracy: 0.8256 - val_loss: 0.4517 - val_accuracy: 0.8600\n",
      "Epoch 10/40\n",
      "75/75 [==============================] - 165s 2s/step - loss: 0.4174 - accuracy: 0.8704 - val_loss: 0.3735 - val_accuracy: 0.8929\n",
      "Epoch 11/40\n",
      "75/75 [==============================] - 209s 3s/step - loss: 0.3489 - accuracy: 0.8938 - val_loss: 0.3091 - val_accuracy: 0.9154\n",
      "Epoch 12/40\n",
      "75/75 [==============================] - 227s 3s/step - loss: 0.2905 - accuracy: 0.9083 - val_loss: 0.3373 - val_accuracy: 0.9013\n",
      "Epoch 13/40\n",
      "75/75 [==============================] - 179s 2s/step - loss: 0.2497 - accuracy: 0.9230 - val_loss: 0.3068 - val_accuracy: 0.9098\n",
      "Epoch 14/40\n",
      "75/75 [==============================] - 167s 2s/step - loss: 0.1904 - accuracy: 0.9383 - val_loss: 0.2968 - val_accuracy: 0.9164\n",
      "Epoch 15/40\n",
      "75/75 [==============================] - 163s 2s/step - loss: 0.2041 - accuracy: 0.9387 - val_loss: 0.2871 - val_accuracy: 0.9286\n",
      "Epoch 16/40\n",
      "75/75 [==============================] - 169s 2s/step - loss: 0.1464 - accuracy: 0.9551 - val_loss: 0.2413 - val_accuracy: 0.9258\n",
      "Epoch 17/40\n",
      "75/75 [==============================] - 164s 2s/step - loss: 0.1501 - accuracy: 0.9535 - val_loss: 0.2915 - val_accuracy: 0.9154\n",
      "Epoch 18/40\n",
      "75/75 [==============================] - 173s 2s/step - loss: 0.1311 - accuracy: 0.9607 - val_loss: 0.2644 - val_accuracy: 0.9295\n",
      "Epoch 19/40\n",
      "75/75 [==============================] - 174s 2s/step - loss: 0.1188 - accuracy: 0.9616 - val_loss: 0.2667 - val_accuracy: 0.9286\n",
      "\n",
      "Epoch 00019: ReduceLROnPlateau reducing learning rate to 0.0005000000237487257.\n",
      "Epoch 20/40\n",
      "75/75 [==============================] - 198s 3s/step - loss: 0.0651 - accuracy: 0.9795 - val_loss: 0.2608 - val_accuracy: 0.9333\n",
      "Epoch 21/40\n",
      "75/75 [==============================] - 186s 2s/step - loss: 0.0497 - accuracy: 0.9842 - val_loss: 0.2512 - val_accuracy: 0.9427\n"
     ]
    },
    {
     "data": {
      "text/plain": [
       "Pipeline(steps=[('scaler',\n",
       "                 <__main__.CustomStandardScalerForCnn object at 0x15eb31520>),\n",
       "                ('keras',\n",
       "                 <keras.wrappers.scikit_learn.KerasClassifier object at 0x15eb31670>)])"
      ]
     },
     "execution_count": 48,
     "metadata": {},
     "output_type": "execute_result"
    }
   ],
   "source": [
    "model = Pipeline([\n",
    "    ('scaler', CustomStandardScalerForCnn()),\n",
    "    ('keras', keras.wrappers.scikit_learn.KerasClassifier(CNN_Model,\n",
    "                                                          epochs=40,\n",
    "                                                          batch_size=128,\n",
    "                                                          validation_split=0.1,\n",
    "                                                          callbacks=[\n",
    "                                                              keras.callbacks.EarlyStopping(patience=5),\n",
    "                                                              keras.callbacks.ReduceLROnPlateau(monitor='val_loss',\n",
    "                                                                                                factor=0.5, patience=3,\n",
    "                                                                                                verbose=1, min_lr=0)\n",
    "                                                                    ],             \n",
    "                                                          verbose=1))\n",
    "])\n",
    "\n",
    "print(CNN_Model().summary())\n",
    "x_train, x_test, y_train, y_test = train_test_split(X, y, stratify=y)\n",
    "\n",
    "history=model.fit(x_train, y_train)\n",
    "history\n"
   ]
  },
  {
   "cell_type": "markdown",
   "id": "03d626f7",
   "metadata": {},
   "source": [
    "## Model Evaluation"
   ]
  },
  {
   "cell_type": "code",
   "execution_count": 49,
   "id": "1382e345",
   "metadata": {
    "scrolled": true
   },
   "outputs": [
    {
     "name": "stdout",
     "output_type": "stream",
     "text": [
      "84/84 [==============================] - 43s 513ms/step - loss: 0.0326 - accuracy: 0.9929\n",
      "score on train data: 0.9928524494171143\n",
      "28/28 [==============================] - 17s 603ms/step - loss: 0.2239 - accuracy: 0.9422\n",
      "score on test data: 0.9421720504760742\n",
      "              precision    recall  f1-score   support\n",
      "\n",
      "           а       0.94      0.90      0.92       107\n",
      "           б       0.95      1.00      0.97       107\n",
      "           в       0.96      0.93      0.94       107\n",
      "           г       0.93      0.93      0.93       107\n",
      "           д       0.99      0.92      0.95       107\n",
      "           е       0.93      0.95      0.94       108\n",
      "           ж       0.90      0.93      0.91       107\n",
      "           з       0.97      0.98      0.98       108\n",
      "           и       0.85      0.87      0.86       108\n",
      "           й       1.00      0.98      0.99       108\n",
      "           к       0.97      0.89      0.93       108\n",
      "           л       0.95      0.98      0.97       108\n",
      "           м       0.98      0.97      0.98       108\n",
      "           н       0.90      0.87      0.89       107\n",
      "           о       0.98      0.98      0.98       108\n",
      "           п       0.89      0.88      0.88       107\n",
      "           р       0.95      0.98      0.97       108\n",
      "           с       0.93      0.94      0.94       108\n",
      "           т       0.91      0.95      0.93       107\n",
      "           у       0.96      0.93      0.94       107\n",
      "           ф       0.91      0.98      0.95       108\n",
      "           х       0.87      0.96      0.92       107\n",
      "           ц       0.96      0.92      0.94       108\n",
      "           ч       0.93      0.82      0.87       107\n",
      "           ш       0.91      0.96      0.94       107\n",
      "           щ       0.97      0.94      0.96       107\n",
      "           ъ       0.94      0.96      0.95       107\n",
      "           ы       0.95      0.95      0.95       107\n",
      "           ь       0.96      0.95      0.96       108\n",
      "           э       0.96      1.00      0.98       108\n",
      "           ю       0.96      0.93      0.95       107\n",
      "           я       0.96      0.97      0.97       107\n",
      "           ё       0.96      0.97      0.97       107\n",
      "\n",
      "    accuracy                           0.94      3545\n",
      "   macro avg       0.94      0.94      0.94      3545\n",
      "weighted avg       0.94      0.94      0.94      3545\n",
      "\n"
     ]
    }
   ],
   "source": [
    "print('score on train data:', model.score(x_train, y_train))\n",
    "print('score on test data:', model.score(x_test, y_test))\n",
    "y_pred = model.predict(x_test)\n",
    "print(metrics.classification_report(y_test, y_pred))"
   ]
  },
  {
   "cell_type": "code",
   "execution_count": 54,
   "id": "da3e137f",
   "metadata": {},
   "outputs": [
    {
     "name": "stdout",
     "output_type": "stream",
     "text": [
      "28/28 [==============================] - 13s 467ms/step - loss: 0.2239 - accuracy: 0.9422\n"
     ]
    },
    {
     "data": {
      "text/plain": [
       "0.9421720504760742"
      ]
     },
     "execution_count": 54,
     "metadata": {},
     "output_type": "execute_result"
    }
   ],
   "source": [
    "model.score(x_test,y_test)"
   ]
  }
 ],
 "metadata": {
  "kernelspec": {
   "display_name": "Python 3 (ipykernel)",
   "language": "python",
   "name": "python3"
  },
  "language_info": {
   "codemirror_mode": {
    "name": "ipython",
    "version": 3
   },
   "file_extension": ".py",
   "mimetype": "text/x-python",
   "name": "python",
   "nbconvert_exporter": "python",
   "pygments_lexer": "ipython3",
   "version": "3.9.7"
  }
 },
 "nbformat": 4,
 "nbformat_minor": 5
}
